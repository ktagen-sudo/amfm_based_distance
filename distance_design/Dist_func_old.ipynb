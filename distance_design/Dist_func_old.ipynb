{
 "cells": [
  {
   "cell_type": "code",
   "execution_count": 26,
   "metadata": {},
   "outputs": [],
   "source": [
    "import nibabel as nib\n",
    "import numpy as np\n",
    "import matplotlib.pyplot as plt\n",
    "import os\n",
    "from skimage import measure\n",
    "from mpl_toolkits.mplot3d.art3d import Poly3DCollection\n",
    "import scipy\n",
    "import sparse\n",
    "\n",
    "%matplotlib inline"
   ]
  },
  {
   "cell_type": "code",
   "execution_count": 27,
   "metadata": {},
   "outputs": [],
   "source": [
    "def show_slices(slices, cmap=\"gray\"):\n",
    "    # This function comes from the nibabel\n",
    "    # tutorial --> https://nipy.org/nibabel/coordinate_systems.html#introducing-someone\n",
    "    \n",
    "    fig, axes = plt.subplots(1, len(slices))\n",
    "\n",
    "    for i, slice in enumerate(slices):\n",
    "        im = axes[i].imshow(slice.T, cmap=cmap, origin=\"lower\")\n",
    "        \n",
    "    plt.show()"
   ]
  },
  {
   "cell_type": "code",
   "execution_count": 28,
   "metadata": {},
   "outputs": [],
   "source": [
    "def contour_slices(slices, cmap=\"gray\", total_levels=6):\n",
    "    # This function includes also plotting contour plot\n",
    "    # link --> https://www.python-course.eu/matplotlib_contour_plot.php\n",
    "    # link --> https://github.com/silx-kit/silx/issues/2242\n",
    "    \n",
    "    fig, axes = plt.subplots(1, len(slices), figsize=(5,5))\n",
    "    contour_levels = total_levels\n",
    "    titles = ['sagital', 'coronal', 'axial']\n",
    "    \n",
    "    for i, slice in enumerate(slices):\n",
    "        row, col = np.shape(slice)\n",
    "        y = np.arange(0, row)\n",
    "        x = np.arange(0, col)\n",
    "        xx, yy = np.meshgrid(x, y)\n",
    "\n",
    "        \n",
    "        zzmin, zzmax = np.min(slice), np.max(slice)\n",
    "        levels = np.linspace(zzmin, zzmax, contour_levels)\n",
    "\n",
    "        #Display image with contour plot\n",
    "        im = axes[i].imshow(slice.T, cmap=cmap, origin=\"lower\")\n",
    "        contour = axes[i].contour(yy, xx, slice, levels)\n",
    "        axes[i].clabel(contour, colors = 'k', fmt = '%2.1f', fontsize=12)\n",
    "        c = ('#ff0000', '#ffff00', '#0000FF', '0.6', 'c', 'm')\n",
    "        contour_filled = axes[i].contourf(yy, xx, slice, colors=c)\n",
    "\n",
    "        \n",
    "    plt.show()"
   ]
  },
  {
   "cell_type": "code",
   "execution_count": 29,
   "metadata": {},
   "outputs": [
    {
     "name": "stdout",
     "output_type": "stream",
     "text": [
      "/home/storm/31_GB_volume_1\n"
     ]
    }
   ],
   "source": [
    "print(os.getenv(\"MICCAI_DIR\"))"
   ]
  },
  {
   "cell_type": "code",
   "execution_count": 30,
   "metadata": {},
   "outputs": [],
   "source": [
    "# Path to the dataset and lesions\n",
    "\n",
    "dir_dataset = os.path.join(\"/home/storm/31_GB_volume_1\", \n",
    "                          \"MICCAI_2016/Preprocessed/010_01\")\n",
    "\n",
    "lesion_path = os.path.join(dir_dataset, 'lesion_registered.nii.gz')\n",
    "flair_path = os.path.join(dir_dataset, 'FLAIR_preprocessed.nii.gz')\n",
    "gado_path = os.path.join(dir_dataset, 'GADO_preprocessed.nii.gz')\n",
    "\n",
    "# Loading images\n",
    "lesion = nib.load(lesion_path).get_fdata()\n",
    "flair = nib.load(flair_path).get_fdata()\n",
    "gado = nib.load(gado_path).get_fdata()\n",
    "\n",
    "#Normalization\n",
    "norm_f = np.linalg.norm(flair)\n",
    "norm_g = np.linalg.norm(gado)\n",
    "\n",
    "flair /= norm_f\n",
    "gado /= norm_g"
   ]
  },
  {
   "cell_type": "code",
   "execution_count": 31,
   "metadata": {},
   "outputs": [
    {
     "data": {
      "text/plain": [
       "'/home/storm/31_GB_volume_1/MICCAI_2016/Preprocessed/010_01'"
      ]
     },
     "execution_count": 31,
     "metadata": {},
     "output_type": "execute_result"
    }
   ],
   "source": [
    "dir_dataset"
   ]
  },
  {
   "cell_type": "code",
   "execution_count": 32,
   "metadata": {},
   "outputs": [
    {
     "name": "stdout",
     "output_type": "stream",
     "text": [
      "(144, 512, 512)\n"
     ]
    },
    {
     "data": {
      "image/png": "[encoded data removed]",
      "text/plain": [
       "<Figure size 432x288 with 3 Axes>"
      ]
     },
     "metadata": {
      "needs_background": "light"
     },
     "output_type": "display_data"
    }
   ],
   "source": [
    "print(flair.shape)\n",
    "slice_0 = flair[100, :, :]\n",
    "slice_1 = flair[:,100,:]\n",
    "slice_2 = flair[:, :, 200]\n",
    "show_slices([slice_0, slice_1, slice_2])"
   ]
  },
  {
   "cell_type": "code",
   "execution_count": 33,
   "metadata": {
    "scrolled": true
   },
   "outputs": [
    {
     "name": "stdout",
     "output_type": "stream",
     "text": [
      "(144, 512, 512)\n"
     ]
    },
    {
     "data": {
      "image/png": "[encoded data removed]",
      "text/plain": [
       "<Figure size 432x288 with 3 Axes>"
      ]
     },
     "metadata": {
      "needs_background": "light"
     },
     "output_type": "display_data"
    }
   ],
   "source": [
    "print(flair.shape)\n",
    "slice_0 = lesion[50, :, :]\n",
    "slice_1 = lesion[:,200,:]\n",
    "slice_2 = lesion[:, :, 100]\n",
    "show_slices([slice_0, slice_1, slice_2])"
   ]
  },
  {
   "cell_type": "code",
   "execution_count": 34,
   "metadata": {},
   "outputs": [],
   "source": [
    "import pandas as pd \n",
    "# Calculate the different lesion volumes\n",
    "# https://forum.image.sc/t/extract-3d-measurements-volume-centroid-etc-from-masked-stack/43444\n",
    "from skimage import data, util, measure, morphology\n",
    "\n",
    "mask = lesion > 0\n",
    "#We clean the lesion volume of a very small lesions\n",
    "mask = morphology.remove_small_objects(mask, min_size=30) \n",
    "label_image = measure.label(mask, connectivity=lesion.ndim)\n",
    "\n",
    "#\n",
    "props = measure.regionprops(label_image)\n",
    "properties = ['label', 'area', 'centroid']\n",
    "props_table = measure.regionprops_table(label_image,\n",
    "                           properties=properties)\n",
    "\n",
    "data = pd.DataFrame(props_table)  "
   ]
  },
  {
   "cell_type": "code",
   "execution_count": 35,
   "metadata": {},
   "outputs": [
    {
     "name": "stdout",
     "output_type": "stream",
     "text": [
      "    label    area  centroid-0  centroid-1  centroid-2\n",
      "0       1     139   24.712230  302.338129  358.956835\n",
      "1       2     221   30.746606  287.384615  343.923077\n",
      "2       3  170180   73.636649  308.608373  340.681196\n",
      "3       4      82   38.390244  301.317073  356.158537\n",
      "4       5      38   40.342105  223.421053  333.842105\n",
      "5       6      41   46.780488  354.780488  231.341463\n",
      "6       7     246   50.256098  313.747967  272.398374\n",
      "7       8      33   51.212121  392.636364  228.606061\n",
      "8       9    2847   60.185810  349.297155  237.889708\n",
      "9      10     420   62.428571  266.778571  407.745238\n",
      "10     11     109   62.816514  362.477064  249.733945\n",
      "11     12     982   65.865580  314.008147  254.269857\n",
      "12     13      51   67.294118  320.176471  274.568627\n",
      "13     14      80   70.537500  338.062500  265.625000\n",
      "14     15      30   68.733333  363.233333  252.533333\n",
      "15     16     132   75.348485  322.143939  268.196970\n",
      "16     17    2656   86.187877  347.973268  243.739834\n",
      "17     18     248   81.354839  334.766129  261.338710\n",
      "18     19      35   85.600000  247.828571  381.200000\n",
      "19     20     344   90.793605  302.747093  304.921512\n",
      "20     21     155   89.387097  201.832258  328.909677\n",
      "21     22     103   94.281553  331.271845  241.922330\n",
      "22     23     134   96.910448  347.149254  289.559701\n",
      "23     24      85   98.152941  366.635294  236.211765\n",
      "24     25      66   99.606061  307.393939  270.727273\n",
      "25     26     131  100.083969  313.900763  413.175573\n",
      "26     27     311  105.877814  357.704180  228.128617\n",
      "27     28     345  107.753623  263.431884  262.298551\n",
      "28     29     162  124.228395  299.469136  347.981481\n"
     ]
    }
   ],
   "source": [
    "print(data)"
   ]
  },
  {
   "cell_type": "code",
   "execution_count": 36,
   "metadata": {
    "scrolled": true
   },
   "outputs": [
    {
     "name": "stderr",
     "output_type": "stream",
     "text": [
      "/home/storm/anaconda3/envs/pytorch_cpu/lib/python3.7/site-packages/ipykernel_launcher.py:41: RuntimeWarning: divide by zero encountered in true_divide\n"
     ]
    }
   ],
   "source": [
    "from scipy.ndimage.morphology import distance_transform_edt \n",
    "# Source --> https://stackoverflow.com/questions/44770396/how-does-the-scipy-distance-transform-edt-function-work\n",
    "# Lesions need to be treated separately\n",
    "# Perfect dist func is of the form: --> exp(-(1 / (10 - x) (10 - x))) * exp(- 1 / (x *x))\n",
    "dict_dist = {}\n",
    "total_components = 10\n",
    "total_harms = [comp for comp in range(total_components)]\n",
    "\n",
    "def TestFun(samples):\n",
    "  \n",
    "    t_vals = np.linspace(-4, 20, num=samples)\n",
    "    t_vals [t_vals==0] = 1.0e-6\n",
    "    \n",
    "    # This should work for all values:\n",
    "    f = np.exp(-1/(t_vals**2))\n",
    "    \n",
    "    # Eliminate the zero and negative values:\n",
    "    f [t_vals<=0] = 0\n",
    "    return f\n",
    "\n",
    "for ind in np.nditer(props_table['label']):\n",
    "    region = label_image==ind\n",
    "    res = np.where(region == True)\n",
    "\n",
    "    # Need to crop the image\n",
    "    s_min = min(res[0])\n",
    "    s_max = max(res[0])\n",
    "    x_min = min(res[1])\n",
    "    x_max = max(res[1])\n",
    "    y_min = min(res[2])\n",
    "    y_max = max(res[2])\n",
    "\n",
    "    # 03/15/22 We need to use sparse arrays\n",
    "    cropped_brain = region[s_min:s_max, x_min:x_max, y_min:y_max]\n",
    "    cropped_flair = flair[s_min:s_max, x_min:x_max, y_min:y_max]\n",
    "    cropped_gado = gado[s_min:s_max, x_min:x_max, y_min:y_max]\n",
    "    edt, inds = distance_transform_edt(cropped_brain!=0, return_indices=True) \n",
    "    \n",
    "    d_max = np.max(edt)\n",
    "    \n",
    "    edt = np.exp(-(1 / (10 - edt) * (10 - edt))) * np.exp(-1 / (edt**2))\n",
    "    #Adding to the dictionary\n",
    "    dict_dist[int(ind)] = {}\n",
    "    dict_dist[int(ind)][\"harmonics\"] = {}\n",
    "    dict_dist[int(ind)][\"edt\"] = edt\n",
    "    dict_dist[int(ind)][\"max_dist\"] = d_max\n",
    "    dict_dist[int(ind)][\"flair\"] = cropped_flair\n",
    "    dict_dist[int(ind)][\"gado\"] = cropped_gado\n",
    "    dict_dist[int(ind)][\"gt\"] = cropped_brain\n",
    "    \n",
    "    dict_dist[int(ind)][\"harmonics\"][\"list\"] = []\n",
    "    #total_amfm = 0\n",
    "    for count, harm in enumerate(total_harms):  \n",
    "        amp = edt > 0\n",
    "        amp = amp.astype(int)\n",
    "        \n",
    "        #if count % 2==0:\n",
    "        amfm = amp * np.cos(harm *(edt / d_max)*2*np.pi) \n",
    "        #else:\n",
    "        #amfm = amp * np.sin((harm)*(edt / d_max)*2*np.pi) \n",
    "        #total_amfm += amfm\n",
    "        #dict_dist[int(ind)][\"harmonics\"][harm] = amfm\n",
    "        dict_dist[int(ind)][\"harmonics\"][\"list\"].append(amfm)\n",
    "            \n",
    "    total_list = dict_dist[int(ind)][\"harmonics\"][\"list\"]\n",
    "    array_basis = np.array([comp.flatten() for comp in total_list])\n",
    "    array_basis = np.transpose(array_basis)\n",
    "    \n",
    "    #Build a test function:\n",
    "    x, y = array_basis.shape\n",
    "    TestFunx = TestFun(x)\n",
    "    TestFuny = TestFun(y)\n",
    "    \n",
    "    TestFun_tot = np.outer(TestFunx, TestFuny)\n",
    "    \n",
    "    array_basis *= TestFun_tot\n",
    "    \n",
    "    # Normalization\n",
    "    #norm_g = np.linalg.norm(gado)\n",
    "    #flair /= norm_f\n",
    "    \n",
    "    \n",
    "    dict_dist[int(ind)][\"harmonics\"][\"array\"] = array_basis\n",
    "    \n",
    "    "
   ]
  },
  {
   "cell_type": "code",
   "execution_count": 37,
   "metadata": {},
   "outputs": [],
   "source": [
    "# Example of array basis\n",
    "basis = dict_dist[12][\"harmonics\"][\"array\"]\n",
    "\n",
    "# Applying SVD\n",
    "u, s, vh = scipy.linalg.svd(basis)\n",
    "rank = np.linalg.matrix_rank(basis)\n",
    "row, col = np.shape(basis)\n",
    "v_null = vh[:, rank:]\n",
    "u_left_null = u[:, rank:]\n",
    "\n"
   ]
  },
  {
   "cell_type": "code",
   "execution_count": 38,
   "metadata": {},
   "outputs": [],
   "source": [
    "from scipy.linalg import lstsq\n",
    "\n",
    "les = 12\n",
    "array_basis = dict_dist[les][\"harmonics\"][\"array\"] \n",
    "dc = dict_dist[les][\"harmonics\"][\"list\"][0]\n",
    "c_1 = dict_dist[les][\"harmonics\"][\"list\"][1]\n",
    "lesion_flair = dict_dist[les][\"flair\"]\n",
    "lesion_gado = dict_dist[les][\"gado\"]\n",
    "edt = dict_dist[les][\"edt\"]\n",
    "gt = dict_dist[les][\"gt\"]\n",
    "\n",
    "\n",
    "sl, x, y = lesion_flair.shape\n",
    "\n",
    "#u, s, vh = np.linalg.svd(array_basis)\n",
    "inv_basis = np.linalg.pinv(array_basis)\n",
    "\n",
    "b = lesion_flair.flatten()\n",
    "b = np.reshape(b, (-1, 1))\n",
    "\n",
    "b_gado = lesion_gado.flatten()\n",
    "b_gado = np.reshape(b_gado, (-1, 1))\n",
    "#\n",
    "p, res, rnk, s = lstsq(array_basis, b)\n",
    "p_gado, res_gado, rnk_gado, s_gado = lstsq(array_basis, b_gado)\n",
    "#\n",
    "tmp = array_basis @ p\n",
    "recon_flair = tmp.reshape((sl, x, y))\n",
    "\n",
    "tmp = array_basis @ p_gado\n",
    "recon_gado = tmp.reshape((sl, x, y))\n",
    "\n",
    "\n",
    "\n",
    "# Saving matrices\n",
    "np.save(\"Matrix_A.npy\", array_basis)\n",
    "np.save(\"Flair_lesion.npy\", lesion_flair)\n"
   ]
  },
  {
   "cell_type": "code",
   "execution_count": 39,
   "metadata": {
    "scrolled": false
   },
   "outputs": [
    {
     "name": "stdout",
     "output_type": "stream",
     "text": [
      "(2457, 2457)\n"
     ]
    },
    {
     "data": {
      "image/png": "[encoded data removed]",
      "text/plain": [
       "<Figure size 432x288 with 1 Axes>"
      ]
     },
     "metadata": {
      "needs_background": "light"
     },
     "output_type": "display_data"
    }
   ],
   "source": [
    "plt.plot(s)\n",
    "print(u.shape)"
   ]
  },
  {
   "cell_type": "code",
   "execution_count": 40,
   "metadata": {},
   "outputs": [],
   "source": [
    "projected_b = u_left_null @ np.matrix(u_left_null).getH() @ b"
   ]
  },
  {
   "cell_type": "code",
   "execution_count": 41,
   "metadata": {},
   "outputs": [
    {
     "name": "stdout",
     "output_type": "stream",
     "text": [
      "(2457, 1)\n",
      "(7, 27, 13)\n",
      "7\n"
     ]
    }
   ],
   "source": [
    "print(projected_b.shape)\n",
    "print(lesion_flair.shape)\n",
    "print(sl)\n",
    "projected_b = np.array(projected_b)\n",
    "projected_b = projected_b.ravel().reshape((sl, x, y))"
   ]
  },
  {
   "cell_type": "code",
   "execution_count": 42,
   "metadata": {},
   "outputs": [
    {
     "data": {
      "image/png": "[encoded data removed]",
      "text/plain": [
       "<Figure size 432x288 with 3 Axes>"
      ]
     },
     "metadata": {
      "needs_background": "light"
     },
     "output_type": "display_data"
    },
    {
     "data": {
      "image/png": "[encoded data removed]",
      "text/plain": [
       "<Figure size 432x288 with 3 Axes>"
      ]
     },
     "metadata": {
      "needs_background": "light"
     },
     "output_type": "display_data"
    },
    {
     "data": {
      "image/png": "[encoded data removed]",
      "text/plain": [
       "<Figure size 432x288 with 3 Axes>"
      ]
     },
     "metadata": {
      "needs_background": "light"
     },
     "output_type": "display_data"
    },
    {
     "data": {
      "image/png": "[encoded data removed]",
      "text/plain": [
       "<Figure size 432x288 with 3 Axes>"
      ]
     },
     "metadata": {
      "needs_background": "light"
     },
     "output_type": "display_data"
    },
    {
     "data": {
      "image/png": "[encoded data removed]",
      "text/plain": [
       "<Figure size 432x288 with 3 Axes>"
      ]
     },
     "metadata": {
      "needs_background": "light"
     },
     "output_type": "display_data"
    },
    {
     "data": {
      "image/png": "[encoded data removed]",
      "text/plain": [
       "<Figure size 360x360 with 3 Axes>"
      ]
     },
     "metadata": {
      "needs_background": "light"
     },
     "output_type": "display_data"
    }
   ],
   "source": [
    "harm = recon_flair\n",
    "sl_= 4\n",
    "sx_ = 4\n",
    "sy_ = 4\n",
    "tot_b = edt + projected_b\n",
    "\n",
    "slice_0 = harm[sl_, :, :]\n",
    "slice_1 = harm[:,sx_,:]\n",
    "slice_2 = harm[:, :, sy_]\n",
    "\n",
    "flair_0 = lesion_flair[sl_, :, :]\n",
    "flair_1 = lesion_flair[:,sx_,:]\n",
    "flair_2 = lesion_flair[:, :, sy_] \n",
    "\n",
    "edt_0 = edt[sl_, :, :]\n",
    "edt_1 = edt[:,sx_,:]\n",
    "edt_2 = edt[:, :, sy_]\n",
    "\n",
    "gt_0 = gt[sl_, :, :]\n",
    "gt_1 = gt[:,sx_,:]\n",
    "gt_2 = gt[:, :, sy_]\n",
    "\n",
    "dc_0 = dc[sl_, :, :]\n",
    "dc_1 = dc[:,sx_,:]\n",
    "dc_2 = dc[:, :, sy_]\n",
    "\n",
    "c_0 = c_1[sl_, :, :]\n",
    "c_11 = c_1[:,sx_,:]\n",
    "c_2 = c_1[:, :, sy_]\n",
    "\n",
    "proj_b_0 = projected_b[sl_, :, :]\n",
    "proj_b_1 = projected_b[:, sl_, :]\n",
    "proj_b_2 = projected_b[:, :, sl_]\n",
    "\n",
    "tot_b_0 = tot_b[sl_, :, :]\n",
    "tot_b_1 = tot_b[:, sl_, :]\n",
    "tot_b_2 = tot_b[:, :, sl_]\n",
    "\n",
    "\n",
    "'''\n",
    "slice_0 = lesion_gado[4, :, :]\n",
    "slice_1 = lesion_gado[:,6,:]\n",
    "slice_2 = lesion_gado[:, :, 11]\n",
    "\n",
    "gado_0 = recon_gado[4, :, :]\n",
    "gado_1 = recon_gado[:,6,:]\n",
    "gado_2 = recon_gado[:, :, 11]\n",
    "'''\n",
    "show_slices([slice_0, slice_1, slice_2], 'gray')\n",
    "show_slices([flair_0, flair_1, flair_2], 'gray')\n",
    "show_slices([proj_b_0, proj_b_1, proj_b_2], 'gray')\n",
    "show_slices([edt_0, edt_1, edt_2], 'gray')\n",
    "#show_slices([tot_b_0, tot_b_1, tot_b_2], 'gray')\n",
    "show_slices([gt_0, gt_1, gt_2], 'gray')\n",
    "contour_slices([edt_0, edt_1, edt_2], 'gray')"
   ]
  },
  {
   "cell_type": "code",
   "execution_count": 43,
   "metadata": {
    "scrolled": true
   },
   "outputs": [
    {
     "data": {
      "image/png": "[encoded data removed]",
      "text/plain": [
       "<Figure size 432x288 with 3 Axes>"
      ]
     },
     "metadata": {
      "needs_background": "light"
     },
     "output_type": "display_data"
    },
    {
     "data": {
      "image/png": "[encoded data removed]",
      "text/plain": [
       "<Figure size 432x288 with 3 Axes>"
      ]
     },
     "metadata": {
      "needs_background": "light"
     },
     "output_type": "display_data"
    },
    {
     "data": {
      "image/png": "[encoded data removed]",
      "text/plain": [
       "<Figure size 432x288 with 3 Axes>"
      ]
     },
     "metadata": {
      "needs_background": "light"
     },
     "output_type": "display_data"
    },
    {
     "data": {
      "image/png": "[encoded data removed]",
      "text/plain": [
       "<Figure size 432x288 with 3 Axes>"
      ]
     },
     "metadata": {
      "needs_background": "light"
     },
     "output_type": "display_data"
    },
    {
     "data": {
      "image/png": "[encoded data removed]",
      "text/plain": [
       "<Figure size 360x360 with 3 Axes>"
      ]
     },
     "metadata": {
      "needs_background": "light"
     },
     "output_type": "display_data"
    }
   ],
   "source": [
    "harm = recon_flair\n",
    "sl_= 4\n",
    "sx_ = 4\n",
    "sy_ = 4\n",
    "\n",
    "slice_0 = harm[sl_, :, :]\n",
    "slice_1 = harm[:,sx_,:]\n",
    "slice_2 = harm[:, :, sy_]\n",
    "\n",
    "flair_0 = lesion_flair[sl_, :, :]\n",
    "flair_1 = lesion_flair[:,sx_,:]\n",
    "flair_2 = lesion_flair[:, :, sy_] \n",
    "\n",
    "edt_0 = edt[sl_, :, :]\n",
    "edt_1 = edt[:,sx_,:]\n",
    "edt_2 = edt[:, :, sy_]\n",
    "\n",
    "gt_0 = gt[sl_, :, :]\n",
    "gt_1 = gt[:,sx_,:]\n",
    "gt_2 = gt[:, :, sy_]\n",
    "\n",
    "dc_0 = dc[sl_, :, :]\n",
    "dc_1 = dc[:,sx_,:]\n",
    "dc_2 = dc[:, :, sy_]\n",
    "\n",
    "c_0 = c_1[sl_, :, :]\n",
    "c_11 = c_1[:,sx_,:]\n",
    "c_2 = c_1[:, :, sy_]\n",
    "'''\n",
    "slice_0 = lesion_gado[4, :, :]\n",
    "slice_1 = lesion_gado[:,6,:]\n",
    "slice_2 = lesion_gado[:, :, 11]\n",
    "\n",
    "gado_0 = recon_gado[4, :, :]\n",
    "gado_1 = recon_gado[:,6,:]\n",
    "gado_2 = recon_gado[:, :, 11]\n",
    "'''\n",
    "show_slices([slice_0, slice_1, slice_2], 'gray')\n",
    "show_slices([flair_0, flair_1, flair_2], 'gray')\n",
    "show_slices([edt_0, edt_1, edt_2], 'gray')\n",
    "show_slices([gt_0, gt_1, gt_2], 'gray')\n",
    "contour_slices([edt_0, edt_1, edt_2], 'gray')"
   ]
  },
  {
   "cell_type": "code",
   "execution_count": 44,
   "metadata": {},
   "outputs": [
    {
     "ename": "NameError",
     "evalue": "name 'cmap' is not defined",
     "output_type": "error",
     "traceback": [
      "\u001b[0;31m---------------------------------------------------------------------------\u001b[0m",
      "\u001b[0;31mNameError\u001b[0m                                 Traceback (most recent call last)",
      "\u001b[0;32m/tmp/ipykernel_2188/618993421.py\u001b[0m in \u001b[0;36m<module>\u001b[0;34m\u001b[0m\n\u001b[1;32m      2\u001b[0m \u001b[0mslices\u001b[0m \u001b[0;34m=\u001b[0m \u001b[0;34m[\u001b[0m\u001b[0mflair_0\u001b[0m\u001b[0;34m[\u001b[0m\u001b[0;36m75\u001b[0m\u001b[0;34m:\u001b[0m\u001b[0;36m175\u001b[0m\u001b[0;34m,\u001b[0m \u001b[0;36m0\u001b[0m\u001b[0;34m:\u001b[0m\u001b[0;36m60\u001b[0m\u001b[0;34m]\u001b[0m\u001b[0;34m,\u001b[0m \u001b[0medt_0\u001b[0m\u001b[0;34m[\u001b[0m\u001b[0;36m75\u001b[0m\u001b[0;34m:\u001b[0m\u001b[0;36m175\u001b[0m\u001b[0;34m,\u001b[0m \u001b[0;36m0\u001b[0m\u001b[0;34m:\u001b[0m\u001b[0;36m60\u001b[0m\u001b[0;34m]\u001b[0m\u001b[0;34m]\u001b[0m\u001b[0;34m\u001b[0m\u001b[0m\n\u001b[1;32m      3\u001b[0m \u001b[0;32mfor\u001b[0m \u001b[0mi\u001b[0m\u001b[0;34m,\u001b[0m \u001b[0mslice\u001b[0m \u001b[0;32min\u001b[0m \u001b[0menumerate\u001b[0m\u001b[0;34m(\u001b[0m\u001b[0mslices\u001b[0m\u001b[0;34m)\u001b[0m\u001b[0;34m:\u001b[0m\u001b[0;34m\u001b[0m\u001b[0m\n\u001b[0;32m----> 4\u001b[0;31m     \u001b[0mim\u001b[0m \u001b[0;34m=\u001b[0m \u001b[0maxes\u001b[0m\u001b[0;34m[\u001b[0m\u001b[0mi\u001b[0m\u001b[0;34m]\u001b[0m\u001b[0;34m.\u001b[0m\u001b[0mimshow\u001b[0m\u001b[0;34m(\u001b[0m\u001b[0mslice\u001b[0m\u001b[0;34m.\u001b[0m\u001b[0mT\u001b[0m\u001b[0;34m,\u001b[0m \u001b[0mcmap\u001b[0m\u001b[0;34m=\u001b[0m\u001b[0mcmap\u001b[0m\u001b[0;34m,\u001b[0m \u001b[0morigin\u001b[0m\u001b[0;34m=\u001b[0m\u001b[0;34m\"lower\"\u001b[0m\u001b[0;34m)\u001b[0m\u001b[0;34m\u001b[0m\u001b[0m\n\u001b[0m\u001b[1;32m      5\u001b[0m \u001b[0;34m\u001b[0m\u001b[0m\n\u001b[1;32m      6\u001b[0m \u001b[0mplt\u001b[0m\u001b[0;34m.\u001b[0m\u001b[0mshow\u001b[0m\u001b[0;34m(\u001b[0m\u001b[0;34m)\u001b[0m\u001b[0;34m\u001b[0m\u001b[0m\n",
      "\u001b[0;31mNameError\u001b[0m: name 'cmap' is not defined"
     ]
    },
    {
     "data": {
      "image/png": "[encoded data removed]",
      "text/plain": [
       "<Figure size 432x288 with 2 Axes>"
      ]
     },
     "metadata": {
      "needs_background": "light"
     },
     "output_type": "display_data"
    }
   ],
   "source": [
    "fig, axes = plt.subplots(1, 2)\n",
    "slices = [flair_0[75:175, 0:60], edt_0[75:175, 0:60]]\n",
    "for i, slice in enumerate(slices):\n",
    "    im = axes[i].imshow(slice.T, cmap=cmap, origin=\"lower\")\n",
    "        \n",
    "plt.show()"
   ]
  },
  {
   "cell_type": "code",
   "execution_count": null,
   "metadata": {},
   "outputs": [],
   "source": [
    "slice = edt_0[75:175, 0:60]\n",
    "row, col = np.shape(slice)\n",
    "y = np.arange(0, row)\n",
    "x = np.arange(0, col)\n",
    "xx, yy = np.meshgrid(x, y)\n",
    "cmap='gray'\n",
    "contour_levels = 6\n",
    "zzmin, zzmax = np.min(slice), np.max(slice)\n",
    "levels = np.linspace(zzmin, zzmax, contour_levels)\n",
    "\n",
    "fig, axes = plt.subplots(1,1, figsize=(20,20))\n",
    "#Display image with contour plot\n",
    "i=0\n",
    "im = axes.imshow(slice.T, cmap=cmap, origin=\"lower\")\n",
    "contour = axes.contour(yy, xx, slice, levels)\n",
    "axes.clabel(contour, colors = 'k', fmt = '%2.1f', fontsize=12)\n",
    "c = ('#ff0000', '#ffff00', '#0000FF', '0.6', 'c', 'm')\n",
    "contour_filled = axes.contourf(yy, xx, slice, colors=c)\n",
    "plt.colorbar(contour_filled)\n",
    "\n",
    "plt.show()"
   ]
  },
  {
   "cell_type": "code",
   "execution_count": null,
   "metadata": {},
   "outputs": [],
   "source": []
  },
  {
   "cell_type": "code",
   "execution_count": null,
   "metadata": {},
   "outputs": [],
   "source": [
    "edt_0[127,26]"
   ]
  },
  {
   "cell_type": "code",
   "execution_count": null,
   "metadata": {},
   "outputs": [],
   "source": [
    "from sklearn.linear_model import Lasso\n",
    "from sklearn.linear_model import Ridge\n",
    "from sklearn.linear_model import ElasticNet\n",
    "\n",
    "rgr_ridge = Ridge(alpha=0.3, max_iter=10000)\n",
    "rgr_ridge.fit(array_basis, b)\n",
    "coeff = rgr_ridge.coef_\n",
    "intercepts = rgr_ridge.intercept_\n",
    "\n",
    "tmp = array_basis @ coeff.T + intercepts\n",
    "recon_flair = tmp.reshape((sl, x, y))"
   ]
  },
  {
   "cell_type": "code",
   "execution_count": null,
   "metadata": {},
   "outputs": [],
   "source": [
    "harm = recon_flair\n",
    "sl_= 3\n",
    "sx_ = 4\n",
    "sy_ = 4\n",
    "\n",
    "\n",
    "\n",
    "slice_0 = harm[sl_, :, :]\n",
    "slice_1 = harm[:,sx_,:]\n",
    "slice_2 = harm[:, :, sy_]\n",
    "\n",
    "flair_0 = lesion_flair[sl_, :, :]\n",
    "flair_1 = lesion_flair[:,sx_,:]\n",
    "flair_2 = lesion_flair[:, :, sy_] \n",
    "\n",
    "edt_0 = edt[sl_, :, :]\n",
    "edt_1 = edt[:,sx_,:]\n",
    "edt_2 = edt[:, :, sy_]\n",
    "\n",
    "gt_0 = gt[sl_, :, :]\n",
    "gt_1 = gt[:,sx_,:]\n",
    "gt_2 = gt[:, :, sy_]\n",
    "\n",
    "dc_0 = dc[sl_, :, :]\n",
    "dc_1 = dc[:,sx_,:]\n",
    "dc_2 = dc[:, :, sy_]\n",
    "\n",
    "c_0 = c_1[sl_, :, :]\n",
    "c_11 = c_1[:,sx_,:]\n",
    "c_2 = c_1[:, :, sy_]\n",
    "'''\n",
    "slice_0 = lesion_gado[4, :, :]\n",
    "slice_1 = lesion_gado[:,6,:]\n",
    "slice_2 = lesion_gado[:, :, 11]\n",
    "\n",
    "gado_0 = recon_gado[4, :, :]\n",
    "gado_1 = recon_gado[:,6,:]\n",
    "gado_2 = recon_gado[:, :, 11]\n",
    "'''\n",
    "show_slices([slice_0, slice_1, slice_2], 'gray')\n",
    "show_slices([flair_0, flair_1, flair_2], 'gray')\n",
    "show_slices([edt_0, edt_1, edt_2], 'gray')\n",
    "show_slices([gt_0, gt_1, gt_2], 'gray')\n",
    "contour_slices([edt_0, edt_1, edt_2], 'gray')"
   ]
  },
  {
   "cell_type": "code",
   "execution_count": null,
   "metadata": {
    "scrolled": true
   },
   "outputs": [],
   "source": [
    "# Get the isocontours.\n",
    "# Source --> https://stackoverflow.com/questions/6030098/how-to-display-a-3d-plot-of-a-3d-array-isosurface-in-matplotlib-mplot3d-or-simil/35472146\n",
    "edt = dict_dist[3][\"edt\"] \n",
    "level = 1.0\n",
    "verts, faces, normals, values = measure.marching_cubes(edt)\n",
    "fig = plt.figure(figsize=(8, 6))\n",
    "ax = fig.add_subplot(111, projection='3d')\n",
    "ax.plot_trisurf(verts[:, 0], verts[:,1], faces, verts[:, 2],\n",
    "                cmap='Spectral', lw=1)\n",
    "plt.show()\n"
   ]
  },
  {
   "cell_type": "code",
   "execution_count": null,
   "metadata": {},
   "outputs": [],
   "source": [
    "# Display resulting triangular mesh using Matplotlib. This can also be done\n",
    "# with mayavi (see skimage.measure.marching_cubes_lewiner docstring).\n",
    "fig = plt.figure(figsize=(10, 10))\n",
    "ax = fig.add_subplot(111, projection='3d')\n",
    "\n",
    "# Fancy indexing: `verts[faces]` to generate a collection of triangles\n",
    "mesh = Poly3DCollection(verts[faces])\n",
    "mesh.set_edgecolor('g')\n",
    "ax.add_collection3d(mesh)\n",
    "\n",
    "ax.set_xlabel(\"x-axis: a = 6 per ellipsoid\")\n",
    "ax.set_ylabel(\"y-axis: b = 10\")\n",
    "ax.set_zlabel(\"z-axis: c = 16\")\n",
    "\n",
    "ax.set_xlim(0, 364)  # a = 6 (times two for 2nd ellipsoid)\n",
    "ax.set_ylim(0, 427)  # b = 10\n",
    "ax.set_zlim(0, 437)  # c = 16\n",
    "\n",
    "plt.tight_layout()\n",
    "plt.show()"
   ]
  },
  {
   "cell_type": "code",
   "execution_count": null,
   "metadata": {},
   "outputs": [],
   "source": [
    "# Getting coordinates of each face\n",
    "coord = verts[faces]"
   ]
  },
  {
   "cell_type": "code",
   "execution_count": null,
   "metadata": {},
   "outputs": [],
   "source": [
    "np.max(array_basis)"
   ]
  }
 ],
 "metadata": {
  "kernelspec": {
   "display_name": "Python 3 (ipykernel)",
   "language": "python",
   "name": "python3"
  },
  "language_info": {
   "codemirror_mode": {
    "name": "ipython",
    "version": 3
   },
   "file_extension": ".py",
   "mimetype": "text/x-python",
   "name": "python",
   "nbconvert_exporter": "python",
   "pygments_lexer": "ipython3",
   "version": "3.7.0"
  }
 },
 "nbformat": 4,
 "nbformat_minor": 4
}
