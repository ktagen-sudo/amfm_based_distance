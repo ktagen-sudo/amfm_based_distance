{
 "cells": [
  {
   "cell_type": "code",
   "execution_count": null,
   "id": "9df46891",
   "metadata": {},
   "outputs": [],
   "source": [
    "import nibabel as nib\n",
    "import numpy as np\n",
    "import matplotlib.pyplot as plt\n",
    "import os\n",
    "from skimage import measure\n",
    "from mpl_toolkits.mplot3d.art3d import Poly3DCollection\n",
    "import scipy\n",
    "import sparse\n",
    "from helpers import _generate_dist, _lesion_stats, _testFun1d\n",
    "\n",
    "#%matplotlib inline"
   ]
  },
  {
   "cell_type": "code",
   "execution_count": null,
   "id": "5b11874b",
   "metadata": {},
   "outputs": [],
   "source": [
    "def _contour_slices(_slice, cmap=\"gray\", total_levels=6, view='sagital'):\n",
    "    # This function includes also plotting contour plot\n",
    "    # link --> https://www.python-course.eu/matplotlib_contour_plot.php\n",
    "    # link --> https://github.com/silx-kit/silx/issues/2242\n",
    "    \n",
    "    fig, axes = plt.subplots(1, 1, figsize=(16,16))\n",
    "    contour_levels = total_levels\n",
    "    #['sagital', 'coronal', 'axial'] --> view\n",
    "    \n",
    "    \n",
    "    row, col = np.shape(_slice)\n",
    "    y = np.arange(0, row)\n",
    "    x = np.arange(0, col)\n",
    "    xx, yy = np.meshgrid(x, y)\n",
    "\n",
    "\n",
    "    zzmin, zzmax = np.min(_slice), np.max(_slice)\n",
    "    levels = np.linspace(zzmin, zzmax, contour_levels)\n",
    "\n",
    "    #Display image with contour plot\n",
    "    #axes[i].imshow(slice.T, cmap=cmap, origin=\"lower\")\n",
    "    contour = axes.contour(yy, xx, _slice, levels)\n",
    "    axes.clabel(contour, colors = 'k', fmt = '%2.1f', fontsize=12)\n",
    "    c = ('#ff0000', '#ffff00', '#0000FF', '0.6', 'c', 'm')\n",
    "    axes.set_title(view)\n",
    "    axes.contourf(yy, xx, _slice, colors=c)\n",
    "\n",
    "        \n",
    "    plt.show()\n",
    "    \n",
    "def _show_slices(_slice, cmap=\"gray\", view='sagital'):\n",
    "    # This function comes from the nibabel\n",
    "    # tutorial --> https://nipy.org/nibabel/coordinate_systems.html#introducing-someone\n",
    "    fig, axes = plt.subplots(1, 1, figsize=(15, 15))\n",
    "\n",
    "    #['sagital', 'coronal', 'axial'] --> view\n",
    "    axes.imshow(_slice.T, cmap=cmap, origin=\"lower\")\n",
    "    axes.set_title(view)    \n",
    "    plt.show()"
   ]
  },
  {
   "cell_type": "code",
   "execution_count": null,
   "id": "a76b35dc",
   "metadata": {},
   "outputs": [],
   "source": [
    "MICCAI_DIR=os.path.join(\"/data1/local+data\", \n",
    "                         \"MICCAI_2016\")\n",
    "\n",
    "print(\"{0}\".format(80 * \"-\"))\n",
    "print(\"MICCAI_DIR is {0}\".format(MICCAI_DIR))\n",
    "print(\"{0}\".format(80 * \"-\"))"
   ]
  },
  {
   "cell_type": "code",
   "execution_count": null,
   "id": "a4312dca",
   "metadata": {},
   "outputs": [],
   "source": [
    "# Path to the dataset and lesions\n",
    "\n",
    "dir_dataset = os.path.join(\"/data1/local+data/MICCAI_2016\", \n",
    "                          \"Preprocessed/080_013\")\n",
    "\n",
    "lesion_path = os.path.join(dir_dataset, 'lesion_registered.nii.gz')\n",
    "flair_path = os.path.join(dir_dataset, 'FLAIR_preprocessed.nii.gz')\n",
    "gado_path = os.path.join(dir_dataset, 'GADO_preprocessed.nii.gz')\n",
    "\n",
    "# Loading images\n",
    "lesion = nib.load(lesion_path).get_fdata()\n",
    "flair = nib.load(flair_path).get_fdata()\n",
    "gado = nib.load(gado_path).get_fdata()\n",
    "\n",
    "#Normalization\n",
    "norm_f = np.linalg.norm(flair)\n",
    "norm_g = np.linalg.norm(gado)\n",
    "\n",
    "flair /= norm_f\n",
    "gado /= norm_g"
   ]
  },
  {
   "cell_type": "code",
   "execution_count": null,
   "id": "54c227c3",
   "metadata": {},
   "outputs": [],
   "source": [
    "slice_0 = flair[50, :, :]\n",
    "slice_1 = flair[:,220,:]\n",
    "slice_2 = flair[:, :, 240]\n",
    "_show_slices(slice_1)\n",
    "\n",
    "print(\"{0}\".format(80 * \"-\"))\n",
    "print(\"flair image shape is {0}\".format(flair.shape))\n",
    "print(\"{0}\\n\".format(80 * \"-\"))\n",
    "\n",
    "print(\"{0}\".format(80 * \"-\"))\n",
    "print(\"Showing lesions now\")\n",
    "print(\"{0}\".format(80 * \"-\"))\n",
    "\n",
    "\n",
    "slice_0 = lesion[50, :, :]\n",
    "slice_1 = lesion[:,220,:]\n",
    "slice_2 = lesion[:, :, 240]\n",
    "_show_slices(slice_2)"
   ]
  },
  {
   "cell_type": "code",
   "execution_count": null,
   "id": "7c70f490",
   "metadata": {},
   "outputs": [],
   "source": [
    "print(\"{0}\".format(80 * \"-\"))\n",
    "print(\"Printing data frame table now\")\n",
    "print(\"{0}\".format(80 * \"-\"))\n",
    "\n",
    "props_table_df, _label_lesion = _lesion_stats(lesion)"
   ]
  },
  {
   "cell_type": "code",
   "execution_count": null,
   "id": "04ac1da9",
   "metadata": {},
   "outputs": [],
   "source": [
    "_lesion_num = 1\n",
    "\n",
    "print(\"{0}\".format(80 * \"-\"))\n",
    "print(\"Working with lesion {0}\".format(_lesion_num))\n",
    "print(\"{0}\".format(80 * \"-\"))\n",
    "\n",
    "_region = _label_lesion==_lesion_num\n",
    "_res = np.where(_region == True)\n",
    "    \n",
    "# Need to crop the image\n",
    "s_min = min(_res[0])\n",
    "s_max = max(_res[0])\n",
    "x_min = min(_res[1])\n",
    "x_max = max(_res[1])\n",
    "y_min = min(_res[2])\n",
    "y_max = max(_res[2])\n",
    "\n",
    "# We need to use sparse arrays\n",
    "_zoomed_lesion = _region[s_min:s_max, x_min:x_max, y_min:y_max]\n",
    "_edt, _inds = _generate_dist(_zoomed_lesion)"
   ]
  },
  {
   "cell_type": "code",
   "execution_count": null,
   "id": "a10e1a10",
   "metadata": {},
   "outputs": [],
   "source": [
    "#slice_0 = _label_lesion[50, :, :]\n",
    "#slice_1 = _label_lesion[:,240,:]\n",
    "#slice_2 = _label_lesion[:, :, 200]\n",
    "slice_0 = _edt[:, 5, :]\n",
    "slice_1 = _edt[:, 50, :]\n",
    "slice_2 = _edt[:,:,40]\n",
    "_show_slices(slice_1)"
   ]
  },
  {
   "cell_type": "code",
   "execution_count": null,
   "id": "013b0680",
   "metadata": {
    "scrolled": true
   },
   "outputs": [],
   "source": [
    "_contour_slices(slice_1, 'gray')"
   ]
  },
  {
   "cell_type": "code",
   "execution_count": null,
   "id": "26b9b3d7",
   "metadata": {
    "scrolled": true
   },
   "outputs": [],
   "source": [
    "np.unique(slice_1)"
   ]
  },
  {
   "cell_type": "code",
   "execution_count": null,
   "id": "a21d650a",
   "metadata": {},
   "outputs": [],
   "source": [
    "a = np.where((slice_1 > 0) & (slice_1 < 1.8))\n",
    "b = slice_1[a]\n",
    "result, _ = _testFun1d(b)"
   ]
  },
  {
   "cell_type": "code",
   "execution_count": null,
   "id": "13f279d7",
   "metadata": {},
   "outputs": [],
   "source": [
    "slice_1[a] = result"
   ]
  },
  {
   "cell_type": "code",
   "execution_count": null,
   "id": "388d63e4",
   "metadata": {},
   "outputs": [],
   "source": [
    "_contour_slices(slice_1)"
   ]
  },
  {
   "cell_type": "code",
   "execution_count": null,
   "id": "96614bf4",
   "metadata": {
    "scrolled": true
   },
   "outputs": [],
   "source": [
    "print(np.sum(slice_1))\n",
    "origin_slice_1 = _edt[:,50,:]\n",
    "print(np.sum(origin_slice_1))\n"
   ]
  }
 ],
 "metadata": {
  "kernelspec": {
   "display_name": "Python 3",
   "language": "python",
   "name": "python3"
  },
  "language_info": {
   "codemirror_mode": {
    "name": "ipython",
    "version": 3
   },
   "file_extension": ".py",
   "mimetype": "text/x-python",
   "name": "python",
   "nbconvert_exporter": "python",
   "pygments_lexer": "ipython3",
   "version": "3.10.6"
  }
 },
 "nbformat": 4,
 "nbformat_minor": 5
}
